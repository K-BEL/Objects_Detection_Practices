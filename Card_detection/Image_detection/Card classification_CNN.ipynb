{
 "cells": [
  {
   "cell_type": "code",
   "execution_count": 204,
   "metadata": {},
   "outputs": [],
   "source": [
    "import tensorflow as tf\n",
    "from tensorflow import keras\n",
    "from tensorflow.keras import layers, models\n",
    "from tensorflow.keras.models import Sequential\n",
    "from tensorflow.keras.preprocessing import image_dataset_from_directory, image\n",
    "#from tensorflow.keras.applications.inception_v3 import InceptionV3,preprocess_input\n",
    "from tensorflow.keras.layers import Dense, Flatten, GlobalAveragePooling2D, Dense, Dropout\n",
    "#from tensorflow.keras.preprocessing.image import ImageDataGenerator\n",
    "\n",
    "import cv2\n",
    "import PIL.Image\n",
    "#from PIL import ImageEnhance\n",
    "\n",
    "\n",
    "\n",
    "import os, random, pathlib, warnings, itertools, math\n",
    "warnings.filterwarnings(\"ignore\")\n",
    "\n",
    "\n",
    "import matplotlib.pyplot as plt\n",
    "%matplotlib inline\n",
    "import numpy as np\n"
   ]
  },
  {
   "cell_type": "code",
   "execution_count": 205,
   "metadata": {},
   "outputs": [],
   "source": [
    "data=r'C:\\Users\\LENOVO\\Desktop\\Card_datection\\Data_tri'"
   ]
  },
  {
   "cell_type": "code",
   "execution_count": 206,
   "metadata": {},
   "outputs": [],
   "source": [
    "import pathlib"
   ]
  },
  {
   "cell_type": "code",
   "execution_count": 207,
   "metadata": {},
   "outputs": [
    {
     "data": {
      "text/plain": [
       "WindowsPath('C:/Users/LENOVO/Desktop/Card_datection/Data_tri')"
      ]
     },
     "execution_count": 207,
     "metadata": {},
     "output_type": "execute_result"
    }
   ],
   "source": [
    "data = pathlib.Path(data)\n",
    "data"
   ]
  },
  {
   "cell_type": "code",
   "execution_count": 208,
   "metadata": {},
   "outputs": [
    {
     "data": {
      "text/plain": [
       "'C:\\\\Users\\\\LENOVO\\\\Desktop\\\\Card_datection\\\\Data_tri'"
      ]
     },
     "execution_count": 208,
     "metadata": {},
     "output_type": "execute_result"
    }
   ],
   "source": [
    "str(data)"
   ]
  },
  {
   "cell_type": "code",
   "execution_count": 209,
   "metadata": {},
   "outputs": [],
   "source": [
    "ID_card_dict_train = {\n",
    "    'Front': list(data.glob('Front/*')),\n",
    "    'Back': list(data.glob('Back/*'))\n",
    "}"
   ]
  },
  {
   "cell_type": "code",
   "execution_count": 210,
   "metadata": {},
   "outputs": [],
   "source": [
    "ID_card_label_train = {\n",
    "    'Front': 0,\n",
    "    'Back': 1\n",
    "}"
   ]
  },
  {
   "cell_type": "code",
   "execution_count": null,
   "metadata": {},
   "outputs": [],
   "source": [
    "a = random.randint(0,150)\n",
    "ID_card_dict_train['Front'][a]"
   ]
  },
  {
   "cell_type": "code",
   "execution_count": null,
   "metadata": {},
   "outputs": [],
   "source": [
    "img = PIL.Image.open(ID_card_dict_train['Front'][a])\n",
    "plt.imshow(img)"
   ]
  },
  {
   "cell_type": "code",
   "execution_count": 213,
   "metadata": {},
   "outputs": [],
   "source": [
    "X, y = [], []"
   ]
  },
  {
   "cell_type": "code",
   "execution_count": 214,
   "metadata": {},
   "outputs": [],
   "source": [
    "#for side, images in ID_card_dict_train.items():\n",
    "#    for image in images:\n",
    "#        print(str(images))"
   ]
  },
  {
   "cell_type": "code",
   "execution_count": 215,
   "metadata": {},
   "outputs": [],
   "source": [
    "for side, images in ID_card_dict_train.items():\n",
    "    for image in images:\n",
    "        #img = cv2.imread(str(image))\n",
    "        img = cv2.imdecode(np.fromfile(str(image), dtype=np.uint8), cv2.IMREAD_UNCHANGED)\n",
    "        #print(img.shape)\n",
    "        resized_img = cv2.resize(img,(100,50), interpolation=cv2.INTER_LINEAR) # if there are any pics without a 224 size\n",
    "        #resized_img = cv2.resize(img,(100,50))\n",
    "        resized_img = cv2.cvtColor(resized_img, cv2.COLOR_BGR2GRAY)\n",
    "        resized_img = resized_img[:, :, np.newaxis]\n",
    "        #cv2.imshow(\"output\", resized_img)\n",
    "        #cv2.waitKey(0)\n",
    "        X.append(resized_img)\n",
    "        y.append(ID_card_label_train[side])"
   ]
  },
  {
   "cell_type": "code",
   "execution_count": null,
   "metadata": {},
   "outputs": [],
   "source": [
    "for i in X:\n",
    "    #print(i)\n",
    "    #img = PIL.Image.open(ID_card_dict_train['Front'][1])\n",
    "    #plt.imshow(i)\n",
    "    #cv2.imshow(\"output\", resized_img)\n",
    "    #cv2.waitKey(0)\n",
    "    print(i.shape)"
   ]
  },
  {
   "cell_type": "code",
   "execution_count": 217,
   "metadata": {},
   "outputs": [],
   "source": [
    "X = np.array(X)\n",
    "y = np.array(y)"
   ]
  },
  {
   "cell_type": "code",
   "execution_count": 218,
   "metadata": {},
   "outputs": [],
   "source": [
    "from sklearn.model_selection import train_test_split\n",
    "X_train, X_test, y_train, y_test = train_test_split(X, y, random_state=0,test_size=0.3)"
   ]
  },
  {
   "cell_type": "code",
   "execution_count": 219,
   "metadata": {},
   "outputs": [],
   "source": [
    "data_augmentation = keras.Sequential(\n",
    "  [\n",
    "    layers.experimental.preprocessing.RandomFlip(\"horizontal\", \n",
    "                                                 input_shape=(50,100,1)),\n",
    "    layers.experimental.preprocessing.RandomRotation(0.1),\n",
    "    layers.experimental.preprocessing.RandomZoom(0.1),\n",
    "  ]\n",
    ")"
   ]
  },
  {
   "cell_type": "code",
   "execution_count": 220,
   "metadata": {},
   "outputs": [],
   "source": [
    "#X_train = tf.expand_dims(X_train, axis=-1)\n",
    "#X_train = X_train.reshape(100, 50, -1) \n",
    "#X_train=np.reshape(X_train,(X_train.shape[0], X_train.shape[1], X_train.shape[2],1))\n",
    "#X_test=np.reshape(X_test,(X_test.shape[0], X_test.shape[1], X_test.shape[2],1))"
   ]
  },
  {
   "cell_type": "code",
   "execution_count": 221,
   "metadata": {},
   "outputs": [
    {
     "data": {
      "text/plain": [
       "114"
      ]
     },
     "execution_count": 221,
     "metadata": {},
     "output_type": "execute_result"
    }
   ],
   "source": [
    "X_train.shape[0]"
   ]
  },
  {
   "cell_type": "code",
   "execution_count": 222,
   "metadata": {},
   "outputs": [
    {
     "data": {
      "text/plain": [
       "(50, 100, 1)"
      ]
     },
     "execution_count": 222,
     "metadata": {},
     "output_type": "execute_result"
    }
   ],
   "source": [
    "X_train[0].shape"
   ]
  },
  {
   "cell_type": "code",
   "execution_count": 223,
   "metadata": {},
   "outputs": [
    {
     "name": "stdout",
     "output_type": "stream",
     "text": [
      "Epoch 1/200\n",
      "4/4 [==============================] - 1s 21ms/step - loss: 6.5995 - accuracy: 0.6842\n",
      "Epoch 2/200\n",
      "4/4 [==============================] - 0s 20ms/step - loss: 6.8994 - accuracy: 0.5614\n",
      "Epoch 3/200\n",
      "4/4 [==============================] - 0s 20ms/step - loss: 2.0345 - accuracy: 0.6579\n",
      "Epoch 4/200\n",
      "4/4 [==============================] - 0s 20ms/step - loss: 1.1011 - accuracy: 0.7544\n",
      "Epoch 5/200\n",
      "4/4 [==============================] - 0s 21ms/step - loss: 0.6528 - accuracy: 0.6491\n",
      "Epoch 6/200\n",
      "4/4 [==============================] - 0s 20ms/step - loss: 0.5266 - accuracy: 0.7719\n",
      "Epoch 7/200\n",
      "4/4 [==============================] - 0s 20ms/step - loss: 0.5155 - accuracy: 0.7719\n",
      "Epoch 8/200\n",
      "4/4 [==============================] - 0s 20ms/step - loss: 0.5589 - accuracy: 0.7632\n",
      "Epoch 9/200\n",
      "4/4 [==============================] - 0s 20ms/step - loss: 0.5399 - accuracy: 0.7544\n",
      "Epoch 10/200\n",
      "4/4 [==============================] - 0s 19ms/step - loss: 0.5347 - accuracy: 0.7807\n",
      "Epoch 11/200\n",
      "4/4 [==============================] - 0s 18ms/step - loss: 0.4619 - accuracy: 0.7719\n",
      "Epoch 12/200\n",
      "4/4 [==============================] - 0s 18ms/step - loss: 0.5079 - accuracy: 0.7807\n",
      "Epoch 13/200\n",
      "4/4 [==============================] - 0s 18ms/step - loss: 0.4910 - accuracy: 0.7982\n",
      "Epoch 14/200\n",
      "4/4 [==============================] - 0s 19ms/step - loss: 0.4385 - accuracy: 0.8070\n",
      "Epoch 15/200\n",
      "4/4 [==============================] - 0s 19ms/step - loss: 0.5238 - accuracy: 0.7895\n",
      "Epoch 16/200\n",
      "4/4 [==============================] - 0s 20ms/step - loss: 0.4478 - accuracy: 0.8070\n",
      "Epoch 17/200\n",
      "4/4 [==============================] - 0s 19ms/step - loss: 0.4026 - accuracy: 0.8246\n",
      "Epoch 18/200\n",
      "4/4 [==============================] - 0s 19ms/step - loss: 0.4115 - accuracy: 0.8246\n",
      "Epoch 19/200\n",
      "4/4 [==============================] - 0s 20ms/step - loss: 0.4201 - accuracy: 0.8246\n",
      "Epoch 20/200\n",
      "4/4 [==============================] - 0s 19ms/step - loss: 0.4577 - accuracy: 0.8333\n",
      "Epoch 21/200\n",
      "4/4 [==============================] - 0s 20ms/step - loss: 0.4352 - accuracy: 0.8421\n",
      "Epoch 22/200\n",
      "4/4 [==============================] - 0s 19ms/step - loss: 0.3976 - accuracy: 0.8333\n",
      "Epoch 23/200\n",
      "4/4 [==============================] - 0s 19ms/step - loss: 0.4395 - accuracy: 0.8421\n",
      "Epoch 24/200\n",
      "4/4 [==============================] - 0s 20ms/step - loss: 0.3772 - accuracy: 0.8333\n",
      "Epoch 25/200\n",
      "4/4 [==============================] - 0s 21ms/step - loss: 0.4316 - accuracy: 0.8070\n",
      "Epoch 26/200\n",
      "4/4 [==============================] - 0s 19ms/step - loss: 0.3633 - accuracy: 0.8772\n",
      "Epoch 27/200\n",
      "4/4 [==============================] - 0s 19ms/step - loss: 0.4820 - accuracy: 0.8421\n",
      "Epoch 28/200\n",
      "4/4 [==============================] - 0s 17ms/step - loss: 0.3797 - accuracy: 0.8772\n",
      "Epoch 29/200\n",
      "4/4 [==============================] - 0s 20ms/step - loss: 0.3469 - accuracy: 0.8947\n",
      "Epoch 30/200\n",
      "4/4 [==============================] - 0s 20ms/step - loss: 0.3880 - accuracy: 0.8421\n",
      "Epoch 31/200\n",
      "4/4 [==============================] - 0s 20ms/step - loss: 0.3244 - accuracy: 0.9035\n",
      "Epoch 32/200\n",
      "4/4 [==============================] - 0s 20ms/step - loss: 0.3526 - accuracy: 0.9035\n",
      "Epoch 33/200\n",
      "4/4 [==============================] - 0s 20ms/step - loss: 0.2791 - accuracy: 0.8947\n",
      "Epoch 34/200\n",
      "4/4 [==============================] - 0s 20ms/step - loss: 0.4122 - accuracy: 0.8509\n",
      "Epoch 35/200\n",
      "4/4 [==============================] - 0s 20ms/step - loss: 0.4465 - accuracy: 0.8596\n",
      "Epoch 36/200\n",
      "4/4 [==============================] - 0s 20ms/step - loss: 0.3187 - accuracy: 0.8947\n",
      "Epoch 37/200\n",
      "4/4 [==============================] - 0s 20ms/step - loss: 0.3681 - accuracy: 0.8860\n",
      "Epoch 38/200\n",
      "4/4 [==============================] - 0s 20ms/step - loss: 0.4351 - accuracy: 0.7982\n",
      "Epoch 39/200\n",
      "4/4 [==============================] - 0s 19ms/step - loss: 0.3653 - accuracy: 0.8772\n",
      "Epoch 40/200\n",
      "4/4 [==============================] - 0s 21ms/step - loss: 0.3170 - accuracy: 0.9123\n",
      "Epoch 41/200\n",
      "4/4 [==============================] - 0s 19ms/step - loss: 0.3737 - accuracy: 0.8772\n",
      "Epoch 42/200\n",
      "4/4 [==============================] - 0s 20ms/step - loss: 0.3724 - accuracy: 0.8947\n",
      "Epoch 43/200\n",
      "4/4 [==============================] - 0s 20ms/step - loss: 0.3335 - accuracy: 0.8947\n",
      "Epoch 44/200\n",
      "4/4 [==============================] - 0s 18ms/step - loss: 0.3002 - accuracy: 0.9035\n",
      "Epoch 45/200\n",
      "4/4 [==============================] - 0s 19ms/step - loss: 0.3513 - accuracy: 0.8860\n",
      "Epoch 46/200\n",
      "4/4 [==============================] - 0s 19ms/step - loss: 0.3068 - accuracy: 0.8947\n",
      "Epoch 47/200\n",
      "4/4 [==============================] - 0s 19ms/step - loss: 0.2542 - accuracy: 0.9298\n",
      "Epoch 48/200\n",
      "4/4 [==============================] - 0s 19ms/step - loss: 0.3036 - accuracy: 0.9035\n",
      "Epoch 49/200\n",
      "4/4 [==============================] - 0s 19ms/step - loss: 0.2621 - accuracy: 0.9035\n",
      "Epoch 50/200\n",
      "4/4 [==============================] - 0s 19ms/step - loss: 0.1934 - accuracy: 0.9386\n",
      "Epoch 51/200\n",
      "4/4 [==============================] - 0s 20ms/step - loss: 0.2751 - accuracy: 0.9211\n",
      "Epoch 52/200\n",
      "4/4 [==============================] - 0s 20ms/step - loss: 0.2994 - accuracy: 0.9123\n",
      "Epoch 53/200\n",
      "4/4 [==============================] - 0s 20ms/step - loss: 0.2882 - accuracy: 0.9035\n",
      "Epoch 54/200\n",
      "4/4 [==============================] - 0s 18ms/step - loss: 0.2757 - accuracy: 0.9123\n",
      "Epoch 55/200\n",
      "4/4 [==============================] - 0s 19ms/step - loss: 0.3544 - accuracy: 0.8509\n",
      "Epoch 56/200\n",
      "4/4 [==============================] - 0s 19ms/step - loss: 0.3168 - accuracy: 0.8860\n",
      "Epoch 57/200\n",
      "4/4 [==============================] - 0s 18ms/step - loss: 0.4860 - accuracy: 0.8509\n",
      "Epoch 58/200\n",
      "4/4 [==============================] - 0s 19ms/step - loss: 0.3773 - accuracy: 0.8333\n",
      "Epoch 59/200\n",
      "4/4 [==============================] - 0s 17ms/step - loss: 0.3694 - accuracy: 0.8684\n",
      "Epoch 60/200\n",
      "4/4 [==============================] - 0s 18ms/step - loss: 0.3371 - accuracy: 0.9123\n",
      "Epoch 61/200\n",
      "4/4 [==============================] - 0s 19ms/step - loss: 0.2928 - accuracy: 0.9211\n",
      "Epoch 62/200\n",
      "4/4 [==============================] - 0s 19ms/step - loss: 0.2868 - accuracy: 0.9211\n",
      "Epoch 63/200\n",
      "4/4 [==============================] - 0s 18ms/step - loss: 0.2211 - accuracy: 0.9211\n",
      "Epoch 64/200\n",
      "4/4 [==============================] - 0s 19ms/step - loss: 0.2640 - accuracy: 0.9123\n",
      "Epoch 65/200\n",
      "4/4 [==============================] - 0s 19ms/step - loss: 0.2865 - accuracy: 0.9123\n",
      "Epoch 66/200\n",
      "4/4 [==============================] - 0s 20ms/step - loss: 0.3019 - accuracy: 0.9035\n",
      "Epoch 67/200\n",
      "4/4 [==============================] - 0s 19ms/step - loss: 0.2914 - accuracy: 0.9035\n",
      "Epoch 68/200\n",
      "4/4 [==============================] - 0s 19ms/step - loss: 0.2236 - accuracy: 0.9298\n",
      "Epoch 69/200\n",
      "4/4 [==============================] - 0s 20ms/step - loss: 0.2487 - accuracy: 0.9035\n",
      "Epoch 70/200\n",
      "4/4 [==============================] - 0s 19ms/step - loss: 0.2431 - accuracy: 0.8860\n",
      "Epoch 71/200\n",
      "4/4 [==============================] - 0s 19ms/step - loss: 0.2390 - accuracy: 0.9386\n",
      "Epoch 72/200\n",
      "4/4 [==============================] - 0s 20ms/step - loss: 0.2281 - accuracy: 0.9474\n",
      "Epoch 73/200\n",
      "4/4 [==============================] - 0s 19ms/step - loss: 0.1876 - accuracy: 0.9474\n",
      "Epoch 74/200\n",
      "4/4 [==============================] - 0s 19ms/step - loss: 0.2265 - accuracy: 0.9298\n",
      "Epoch 75/200\n",
      "4/4 [==============================] - 0s 18ms/step - loss: 0.1545 - accuracy: 0.9386\n",
      "Epoch 76/200\n",
      "4/4 [==============================] - 0s 18ms/step - loss: 0.2988 - accuracy: 0.9123\n",
      "Epoch 77/200\n",
      "4/4 [==============================] - 0s 18ms/step - loss: 0.2445 - accuracy: 0.9123\n",
      "Epoch 78/200\n",
      "4/4 [==============================] - 0s 18ms/step - loss: 0.2122 - accuracy: 0.9123\n",
      "Epoch 79/200\n",
      "4/4 [==============================] - 0s 20ms/step - loss: 0.2943 - accuracy: 0.8947\n",
      "Epoch 80/200\n",
      "4/4 [==============================] - 0s 19ms/step - loss: 0.1563 - accuracy: 0.9474\n",
      "Epoch 81/200\n",
      "4/4 [==============================] - 0s 20ms/step - loss: 0.1613 - accuracy: 0.9298\n",
      "Epoch 82/200\n",
      "4/4 [==============================] - 0s 20ms/step - loss: 0.2018 - accuracy: 0.9035\n",
      "Epoch 83/200\n",
      "4/4 [==============================] - 0s 19ms/step - loss: 0.1921 - accuracy: 0.9474\n",
      "Epoch 84/200\n",
      "4/4 [==============================] - 0s 19ms/step - loss: 0.2073 - accuracy: 0.9123\n",
      "Epoch 85/200\n",
      "4/4 [==============================] - 0s 19ms/step - loss: 0.2163 - accuracy: 0.9386\n",
      "Epoch 86/200\n",
      "4/4 [==============================] - 0s 19ms/step - loss: 0.2161 - accuracy: 0.9298\n",
      "Epoch 87/200\n",
      "4/4 [==============================] - 0s 20ms/step - loss: 0.1745 - accuracy: 0.9298\n",
      "Epoch 88/200\n",
      "4/4 [==============================] - 0s 19ms/step - loss: 0.2044 - accuracy: 0.9386\n",
      "Epoch 89/200\n",
      "4/4 [==============================] - 0s 20ms/step - loss: 0.1775 - accuracy: 0.9386\n",
      "Epoch 90/200\n",
      "4/4 [==============================] - 0s 18ms/step - loss: 0.1483 - accuracy: 0.9561\n",
      "Epoch 91/200\n",
      "4/4 [==============================] - 0s 18ms/step - loss: 0.1453 - accuracy: 0.9561\n",
      "Epoch 92/200\n",
      "4/4 [==============================] - 0s 19ms/step - loss: 0.3138 - accuracy: 0.9035\n",
      "Epoch 93/200\n",
      "4/4 [==============================] - 0s 19ms/step - loss: 0.1761 - accuracy: 0.9561\n",
      "Epoch 94/200\n",
      "4/4 [==============================] - 0s 19ms/step - loss: 0.2779 - accuracy: 0.9123\n",
      "Epoch 95/200\n",
      "4/4 [==============================] - 0s 19ms/step - loss: 0.2008 - accuracy: 0.9298\n",
      "Epoch 96/200\n",
      "4/4 [==============================] - 0s 19ms/step - loss: 0.2212 - accuracy: 0.9298\n",
      "Epoch 97/200\n",
      "4/4 [==============================] - 0s 19ms/step - loss: 0.2379 - accuracy: 0.9035\n",
      "Epoch 98/200\n",
      "4/4 [==============================] - 0s 19ms/step - loss: 0.1893 - accuracy: 0.9211\n",
      "Epoch 99/200\n",
      "4/4 [==============================] - 0s 19ms/step - loss: 0.1820 - accuracy: 0.9386\n",
      "Epoch 100/200\n",
      "4/4 [==============================] - 0s 19ms/step - loss: 0.2165 - accuracy: 0.9035\n",
      "Epoch 101/200\n",
      "4/4 [==============================] - 0s 19ms/step - loss: 0.1914 - accuracy: 0.9211\n",
      "Epoch 102/200\n",
      "4/4 [==============================] - 0s 20ms/step - loss: 0.2162 - accuracy: 0.9298\n",
      "Epoch 103/200\n",
      "4/4 [==============================] - 0s 20ms/step - loss: 0.1730 - accuracy: 0.9386\n",
      "Epoch 104/200\n",
      "4/4 [==============================] - 0s 19ms/step - loss: 0.1754 - accuracy: 0.9561\n",
      "Epoch 105/200\n",
      "4/4 [==============================] - 0s 20ms/step - loss: 0.1525 - accuracy: 0.9561\n",
      "Epoch 106/200\n",
      "4/4 [==============================] - 0s 18ms/step - loss: 0.1301 - accuracy: 0.9386\n",
      "Epoch 107/200\n",
      "4/4 [==============================] - 0s 18ms/step - loss: 0.1524 - accuracy: 0.9474\n",
      "Epoch 108/200\n",
      "4/4 [==============================] - 0s 18ms/step - loss: 0.1476 - accuracy: 0.9474\n",
      "Epoch 109/200\n",
      "4/4 [==============================] - 0s 19ms/step - loss: 0.2089 - accuracy: 0.9211\n",
      "Epoch 110/200\n",
      "4/4 [==============================] - 0s 19ms/step - loss: 0.2344 - accuracy: 0.9123\n",
      "Epoch 111/200\n",
      "4/4 [==============================] - 0s 20ms/step - loss: 0.1869 - accuracy: 0.9386\n",
      "Epoch 112/200\n",
      "4/4 [==============================] - 0s 20ms/step - loss: 0.1624 - accuracy: 0.9474\n",
      "Epoch 113/200\n",
      "4/4 [==============================] - 0s 20ms/step - loss: 0.1364 - accuracy: 0.9561\n",
      "Epoch 114/200\n",
      "4/4 [==============================] - 0s 21ms/step - loss: 0.1497 - accuracy: 0.9474\n",
      "Epoch 115/200\n",
      "4/4 [==============================] - 0s 20ms/step - loss: 0.1719 - accuracy: 0.9298\n",
      "Epoch 116/200\n",
      "4/4 [==============================] - 0s 21ms/step - loss: 0.1485 - accuracy: 0.9386\n",
      "Epoch 117/200\n",
      "4/4 [==============================] - 0s 20ms/step - loss: 0.1143 - accuracy: 0.9561\n",
      "Epoch 118/200\n",
      "4/4 [==============================] - 0s 20ms/step - loss: 0.1651 - accuracy: 0.9386\n",
      "Epoch 119/200\n",
      "4/4 [==============================] - 0s 21ms/step - loss: 0.1548 - accuracy: 0.9474\n",
      "Epoch 120/200\n",
      "4/4 [==============================] - 0s 20ms/step - loss: 0.1312 - accuracy: 0.9474\n",
      "Epoch 121/200\n",
      "4/4 [==============================] - 0s 19ms/step - loss: 0.2620 - accuracy: 0.9211\n",
      "Epoch 122/200\n",
      "4/4 [==============================] - 0s 18ms/step - loss: 0.1591 - accuracy: 0.9649\n",
      "Epoch 123/200\n",
      "4/4 [==============================] - 0s 19ms/step - loss: 0.3473 - accuracy: 0.9123\n",
      "Epoch 124/200\n",
      "4/4 [==============================] - 0s 18ms/step - loss: 0.1745 - accuracy: 0.9386\n",
      "Epoch 125/200\n",
      "4/4 [==============================] - 0s 20ms/step - loss: 0.1663 - accuracy: 0.9474\n",
      "Epoch 126/200\n",
      "4/4 [==============================] - 0s 19ms/step - loss: 0.3509 - accuracy: 0.8596\n",
      "Epoch 127/200\n",
      "4/4 [==============================] - 0s 21ms/step - loss: 0.1347 - accuracy: 0.9561\n",
      "Epoch 128/200\n",
      "4/4 [==============================] - 0s 20ms/step - loss: 0.2011 - accuracy: 0.9474\n",
      "Epoch 129/200\n",
      "4/4 [==============================] - 0s 19ms/step - loss: 0.1669 - accuracy: 0.9474\n",
      "Epoch 130/200\n",
      "4/4 [==============================] - 0s 20ms/step - loss: 0.1304 - accuracy: 0.9561\n",
      "Epoch 131/200\n",
      "4/4 [==============================] - 0s 20ms/step - loss: 0.1255 - accuracy: 0.9474\n",
      "Epoch 132/200\n",
      "4/4 [==============================] - 0s 19ms/step - loss: 0.1608 - accuracy: 0.9474\n",
      "Epoch 133/200\n",
      "4/4 [==============================] - 0s 19ms/step - loss: 0.1465 - accuracy: 0.9298\n",
      "Epoch 134/200\n",
      "4/4 [==============================] - 0s 19ms/step - loss: 0.1479 - accuracy: 0.9386\n",
      "Epoch 135/200\n",
      "4/4 [==============================] - 0s 20ms/step - loss: 0.1586 - accuracy: 0.9298\n",
      "Epoch 136/200\n",
      "4/4 [==============================] - 0s 20ms/step - loss: 0.1134 - accuracy: 0.9386\n",
      "Epoch 137/200\n",
      "4/4 [==============================] - 0s 21ms/step - loss: 0.2304 - accuracy: 0.9386\n",
      "Epoch 138/200\n",
      "4/4 [==============================] - 0s 17ms/step - loss: 0.1323 - accuracy: 0.9649\n",
      "Epoch 139/200\n",
      "4/4 [==============================] - 0s 19ms/step - loss: 0.1589 - accuracy: 0.9561\n",
      "Epoch 140/200\n",
      "4/4 [==============================] - 0s 19ms/step - loss: 0.0969 - accuracy: 0.9649\n",
      "Epoch 141/200\n",
      "4/4 [==============================] - 0s 19ms/step - loss: 0.0874 - accuracy: 0.9649\n",
      "Epoch 142/200\n",
      "4/4 [==============================] - 0s 19ms/step - loss: 0.1174 - accuracy: 0.9561\n",
      "Epoch 143/200\n",
      "4/4 [==============================] - 0s 19ms/step - loss: 0.2878 - accuracy: 0.9298\n",
      "Epoch 144/200\n",
      "4/4 [==============================] - 0s 19ms/step - loss: 0.0875 - accuracy: 0.9825\n",
      "Epoch 145/200\n",
      "4/4 [==============================] - 0s 20ms/step - loss: 0.1118 - accuracy: 0.9561\n",
      "Epoch 146/200\n",
      "4/4 [==============================] - 0s 20ms/step - loss: 0.1208 - accuracy: 0.9561\n",
      "Epoch 147/200\n",
      "4/4 [==============================] - 0s 19ms/step - loss: 0.1282 - accuracy: 0.9561\n",
      "Epoch 148/200\n",
      "4/4 [==============================] - 0s 20ms/step - loss: 0.2500 - accuracy: 0.9386\n",
      "Epoch 149/200\n",
      "4/4 [==============================] - 0s 20ms/step - loss: 0.1048 - accuracy: 0.9474\n",
      "Epoch 150/200\n",
      "4/4 [==============================] - 0s 20ms/step - loss: 0.2303 - accuracy: 0.9298\n",
      "Epoch 151/200\n",
      "4/4 [==============================] - 0s 19ms/step - loss: 0.1535 - accuracy: 0.9561\n",
      "Epoch 152/200\n",
      "4/4 [==============================] - 0s 20ms/step - loss: 0.3025 - accuracy: 0.9035\n",
      "Epoch 153/200\n",
      "4/4 [==============================] - 0s 18ms/step - loss: 0.1852 - accuracy: 0.9211\n",
      "Epoch 154/200\n",
      "4/4 [==============================] - 0s 18ms/step - loss: 0.1202 - accuracy: 0.9649\n",
      "Epoch 155/200\n",
      "4/4 [==============================] - 0s 19ms/step - loss: 0.2109 - accuracy: 0.9298\n",
      "Epoch 156/200\n",
      "4/4 [==============================] - 0s 17ms/step - loss: 0.1439 - accuracy: 0.9386\n",
      "Epoch 157/200\n",
      "4/4 [==============================] - 0s 18ms/step - loss: 0.1832 - accuracy: 0.9649\n",
      "Epoch 158/200\n",
      "4/4 [==============================] - 0s 19ms/step - loss: 0.1357 - accuracy: 0.9561\n",
      "Epoch 159/200\n",
      "4/4 [==============================] - 0s 20ms/step - loss: 0.1190 - accuracy: 0.9474\n",
      "Epoch 160/200\n",
      "4/4 [==============================] - 0s 20ms/step - loss: 0.1399 - accuracy: 0.9386\n",
      "Epoch 161/200\n",
      "4/4 [==============================] - 0s 20ms/step - loss: 0.1889 - accuracy: 0.9386\n",
      "Epoch 162/200\n",
      "4/4 [==============================] - 0s 20ms/step - loss: 0.1286 - accuracy: 0.9561\n",
      "Epoch 163/200\n",
      "4/4 [==============================] - 0s 20ms/step - loss: 0.1957 - accuracy: 0.9211\n",
      "Epoch 164/200\n",
      "4/4 [==============================] - 0s 20ms/step - loss: 0.1228 - accuracy: 0.9474\n",
      "Epoch 165/200\n",
      "4/4 [==============================] - 0s 20ms/step - loss: 0.1759 - accuracy: 0.9474\n",
      "Epoch 166/200\n",
      "4/4 [==============================] - 0s 21ms/step - loss: 0.1007 - accuracy: 0.9474\n",
      "Epoch 167/200\n",
      "4/4 [==============================] - 0s 19ms/step - loss: 0.1572 - accuracy: 0.9474\n",
      "Epoch 168/200\n",
      "4/4 [==============================] - 0s 19ms/step - loss: 0.1075 - accuracy: 0.9561\n",
      "Epoch 169/200\n",
      "4/4 [==============================] - 0s 18ms/step - loss: 0.1387 - accuracy: 0.9474\n",
      "Epoch 170/200\n",
      "4/4 [==============================] - 0s 17ms/step - loss: 0.0754 - accuracy: 0.9649\n",
      "Epoch 171/200\n",
      "4/4 [==============================] - 0s 18ms/step - loss: 0.0898 - accuracy: 0.9561\n",
      "Epoch 172/200\n",
      "4/4 [==============================] - 0s 19ms/step - loss: 0.1173 - accuracy: 0.9561\n",
      "Epoch 173/200\n",
      "4/4 [==============================] - 0s 19ms/step - loss: 0.0998 - accuracy: 0.9474\n",
      "Epoch 174/200\n",
      "4/4 [==============================] - 0s 19ms/step - loss: 0.1016 - accuracy: 0.9649\n",
      "Epoch 175/200\n",
      "4/4 [==============================] - 0s 19ms/step - loss: 0.1020 - accuracy: 0.9649\n",
      "Epoch 176/200\n",
      "4/4 [==============================] - 0s 20ms/step - loss: 0.1221 - accuracy: 0.9561\n",
      "Epoch 177/200\n",
      "4/4 [==============================] - 0s 20ms/step - loss: 0.0762 - accuracy: 0.9737\n",
      "Epoch 178/200\n",
      "4/4 [==============================] - 0s 19ms/step - loss: 0.0647 - accuracy: 0.9825\n",
      "Epoch 179/200\n",
      "4/4 [==============================] - 0s 19ms/step - loss: 0.0709 - accuracy: 0.9737\n",
      "Epoch 180/200\n",
      "4/4 [==============================] - 0s 19ms/step - loss: 0.0712 - accuracy: 0.9649\n",
      "Epoch 181/200\n",
      "4/4 [==============================] - 0s 20ms/step - loss: 0.1025 - accuracy: 0.9649\n",
      "Epoch 182/200\n",
      "4/4 [==============================] - 0s 20ms/step - loss: 0.0436 - accuracy: 0.9825\n",
      "Epoch 183/200\n",
      "4/4 [==============================] - 0s 20ms/step - loss: 0.0676 - accuracy: 0.9561\n",
      "Epoch 184/200\n",
      "4/4 [==============================] - 0s 19ms/step - loss: 0.0326 - accuracy: 0.9737\n",
      "Epoch 185/200\n",
      "4/4 [==============================] - 0s 18ms/step - loss: 0.0301 - accuracy: 0.9912\n",
      "Epoch 186/200\n",
      "4/4 [==============================] - 0s 19ms/step - loss: 0.0763 - accuracy: 0.9737\n",
      "Epoch 187/200\n",
      "4/4 [==============================] - 0s 18ms/step - loss: 0.0585 - accuracy: 0.9825\n",
      "Epoch 188/200\n",
      "4/4 [==============================] - 0s 18ms/step - loss: 0.0656 - accuracy: 0.9649\n",
      "Epoch 189/200\n",
      "4/4 [==============================] - 0s 19ms/step - loss: 0.0346 - accuracy: 0.9825\n",
      "Epoch 190/200\n",
      "4/4 [==============================] - 0s 18ms/step - loss: 0.0736 - accuracy: 0.9737\n",
      "Epoch 191/200\n",
      "4/4 [==============================] - 0s 19ms/step - loss: 0.0774 - accuracy: 0.9737\n",
      "Epoch 192/200\n",
      "4/4 [==============================] - 0s 20ms/step - loss: 0.0320 - accuracy: 0.9912\n",
      "Epoch 193/200\n",
      "4/4 [==============================] - 0s 19ms/step - loss: 0.0361 - accuracy: 1.0000\n",
      "Epoch 194/200\n",
      "4/4 [==============================] - 0s 20ms/step - loss: 0.0799 - accuracy: 0.9737\n",
      "Epoch 195/200\n",
      "4/4 [==============================] - 0s 20ms/step - loss: 0.0688 - accuracy: 0.9825\n",
      "Epoch 196/200\n",
      "4/4 [==============================] - 0s 20ms/step - loss: 0.0551 - accuracy: 0.9825\n",
      "Epoch 197/200\n",
      "4/4 [==============================] - 0s 19ms/step - loss: 0.1075 - accuracy: 0.9561\n",
      "Epoch 198/200\n",
      "4/4 [==============================] - 0s 19ms/step - loss: 0.0833 - accuracy: 0.9737\n",
      "Epoch 199/200\n",
      "4/4 [==============================] - 0s 19ms/step - loss: 0.1342 - accuracy: 0.9561\n",
      "Epoch 200/200\n",
      "4/4 [==============================] - 0s 19ms/step - loss: 0.0929 - accuracy: 0.9649\n"
     ]
    }
   ],
   "source": [
    "num_classes = 2\n",
    "\n",
    "model = Sequential([\n",
    "  data_augmentation,\n",
    "  layers.Conv2D(16, 3, padding='same', activation='relu',input_shape=(50,100,1)),\n",
    "  layers.MaxPooling2D(),\n",
    "  layers.Conv2D(32, 3, padding='same', activation='relu'),\n",
    "  layers.MaxPooling2D(),\n",
    "  layers.Conv2D(64, 3, padding='same', activation='relu'),\n",
    "  layers.MaxPooling2D(),\n",
    "  \n",
    "  layers.Flatten(),\n",
    "  \n",
    "  layers.Dense(128, activation='relu'),\n",
    "  layers.Dropout(0.3),\n",
    "  layers.Dense(64, activation='relu'),\n",
    "  layers.Dense(num_classes, activation='softmax')\n",
    "])\n",
    "\n",
    "model.compile(optimizer='adam',\n",
    "              loss=tf.keras.losses.SparseCategoricalCrossentropy(from_logits=True),\n",
    "              metrics=['accuracy'])\n",
    "              \n",
    "history = model.fit(X_train, y_train, epochs=200)"
   ]
  },
  {
   "cell_type": "code",
   "execution_count": 224,
   "metadata": {},
   "outputs": [
    {
     "name": "stdout",
     "output_type": "stream",
     "text": [
      "2/2 [==============================] - 0s 7ms/step - loss: 0.9332 - accuracy: 0.8400\n"
     ]
    },
    {
     "data": {
      "text/plain": [
       "[0.9332248568534851, 0.8399999737739563]"
      ]
     },
     "execution_count": 224,
     "metadata": {},
     "output_type": "execute_result"
    }
   ],
   "source": [
    "model.evaluate(X_test,y_test)"
   ]
  },
  {
   "cell_type": "code",
   "execution_count": 225,
   "metadata": {},
   "outputs": [
    {
     "data": {
      "image/png": "[encoded data removed]",
      "text/plain": [
       "<Figure size 432x288 with 1 Axes>"
      ]
     },
     "metadata": {
      "needs_background": "light"
     },
     "output_type": "display_data"
    },
    {
     "data": {
      "image/png": "[encoded data removed]",
      "text/plain": [
       "<Figure size 432x288 with 1 Axes>"
      ]
     },
     "metadata": {
      "needs_background": "light"
     },
     "output_type": "display_data"
    }
   ],
   "source": [
    "acc = history.history['accuracy']\n",
    "loss = history.history['loss']\n",
    "epochs = range(1, len(acc) + 1)\n",
    "\n",
    "plt.plot(epochs, acc, 'bo', label='Training acc')\n",
    "plt.title('Training and accuracy')\n",
    "plt.ylabel('accuracy')\n",
    "plt.xlabel('epoch')\n",
    "plt.legend()\n",
    "\n",
    "plt.figure()\n",
    "\n",
    "plt.plot(epochs, loss, 'bo', label='Training loss')\n",
    "plt.title('Training and loss')\n",
    "plt.ylabel('loss')\n",
    "plt.xlabel('epoch')\n",
    "plt.legend()\n",
    "\n",
    "plt.show()"
   ]
  },
  {
   "cell_type": "code",
   "execution_count": null,
   "metadata": {},
   "outputs": [],
   "source": [
    "plt.imshow(X_test[0])"
   ]
  },
  {
   "cell_type": "code",
   "execution_count": 227,
   "metadata": {},
   "outputs": [
    {
     "name": "stdout",
     "output_type": "stream",
     "text": [
      "WARNING:tensorflow:6 out of the last 11 calls to <function Model.make_predict_function.<locals>.predict_function at 0x00000188EF6770D0> triggered tf.function retracing. Tracing is expensive and the excessive number of tracings could be due to (1) creating @tf.function repeatedly in a loop, (2) passing tensors with different shapes, (3) passing Python objects instead of tensors. For (1), please define your @tf.function outside of the loop. For (2), @tf.function has experimental_relax_shapes=True option that relaxes argument shapes that can avoid unnecessary retracing. For (3), please refer to https://www.tensorflow.org/guide/function#controlling_retracing and https://www.tensorflow.org/api_docs/python/tf/function for  more details.\n"
     ]
    }
   ],
   "source": [
    "predictions = model.predict(X_test)"
   ]
  },
  {
   "cell_type": "code",
   "execution_count": 228,
   "metadata": {},
   "outputs": [
    {
     "data": {
      "text/plain": [
       "array([4.137553e-06, 9.999958e-01], dtype=float32)"
      ]
     },
     "execution_count": 228,
     "metadata": {},
     "output_type": "execute_result"
    }
   ],
   "source": [
    "predictions[0]"
   ]
  },
  {
   "cell_type": "code",
   "execution_count": 229,
   "metadata": {},
   "outputs": [],
   "source": [
    "score_0 = tf.nn.softmax(predictions[0])"
   ]
  },
  {
   "cell_type": "code",
   "execution_count": 230,
   "metadata": {},
   "outputs": [
    {
     "data": {
      "text/plain": [
       "1"
      ]
     },
     "execution_count": 230,
     "metadata": {},
     "output_type": "execute_result"
    }
   ],
   "source": [
    "np.argmax(score_0)"
   ]
  },
  {
   "cell_type": "code",
   "execution_count": 231,
   "metadata": {},
   "outputs": [
    {
     "data": {
      "text/plain": [
       "1"
      ]
     },
     "execution_count": 231,
     "metadata": {},
     "output_type": "execute_result"
    }
   ],
   "source": [
    "y_test[0]"
   ]
  },
  {
   "cell_type": "code",
   "execution_count": 232,
   "metadata": {},
   "outputs": [],
   "source": [
    "score = tf.nn.softmax(predictions)\n",
    "y_pred = []\n",
    "for i in range(0,len(y_test)):\n",
    "    y_pred.append(np.argmax(tf.nn.softmax(predictions[i])))"
   ]
  },
  {
   "cell_type": "code",
   "execution_count": 233,
   "metadata": {},
   "outputs": [
    {
     "data": {
      "text/plain": [
       "array([1, 0, 0, 0, 0, 0, 1, 0, 0, 0, 1, 0, 1, 0, 0, 1, 0, 0, 0, 1, 0, 1,\n",
       "       0, 0, 1, 0, 1, 0, 1, 1, 0, 0, 1, 0, 1, 1, 0, 0, 1, 0, 0, 0, 0, 0,\n",
       "       0, 1, 0, 1, 0, 1])"
      ]
     },
     "execution_count": 233,
     "metadata": {},
     "output_type": "execute_result"
    }
   ],
   "source": [
    "y_test"
   ]
  },
  {
   "cell_type": "code",
   "execution_count": 234,
   "metadata": {},
   "outputs": [
    {
     "data": {
      "text/plain": [
       "(50,)"
      ]
     },
     "execution_count": 234,
     "metadata": {},
     "output_type": "execute_result"
    }
   ],
   "source": [
    "y_test.shape"
   ]
  },
  {
   "cell_type": "code",
   "execution_count": 235,
   "metadata": {},
   "outputs": [
    {
     "data": {
      "text/plain": [
       "Text(69.0, 0.5, 'Truth')"
      ]
     },
     "execution_count": 235,
     "metadata": {},
     "output_type": "execute_result"
    },
    {
     "data": {
      "image/png": "[encoded data removed]",
      "text/plain": [
       "<Figure size 720x504 with 2 Axes>"
      ]
     },
     "metadata": {
      "needs_background": "light"
     },
     "output_type": "display_data"
    }
   ],
   "source": [
    "import seaborn as sn\n",
    "cm = tf.math.confusion_matrix(labels=y_test,predictions=y_pred)\n",
    "\n",
    "plt.figure(figsize = (10,7))\n",
    "sn.heatmap(cm, annot=True, fmt='d')\n",
    "plt.xlabel('Predicted')\n",
    "plt.ylabel('Truth')"
   ]
  },
  {
   "cell_type": "code",
   "execution_count": 236,
   "metadata": {},
   "outputs": [],
   "source": [
    "# Exemple of an ID card picture"
   ]
  },
  {
   "cell_type": "code",
   "execution_count": 237,
   "metadata": {},
   "outputs": [],
   "source": [
    "#from tensorflow.keras.preprocessing import image"
   ]
  },
  {
   "cell_type": "code",
   "execution_count": 238,
   "metadata": {},
   "outputs": [],
   "source": [
    "img = cv2.imread(r'C:\\Users\\LENOVO\\Desktop\\Card_datection\\Image_detection\\test_picture.jpg')\n",
    "#img = image.load_img(r'C:\\Users\\LENOVO\\Desktop\\Card_datection\\Image_detection\\test_picture.jpg')"
   ]
  },
  {
   "cell_type": "code",
   "execution_count": 239,
   "metadata": {},
   "outputs": [
    {
     "data": {
      "text/plain": [
       "(366, 640, 3)"
      ]
     },
     "execution_count": 239,
     "metadata": {},
     "output_type": "execute_result"
    }
   ],
   "source": [
    "img.shape"
   ]
  },
  {
   "cell_type": "code",
   "execution_count": 240,
   "metadata": {},
   "outputs": [],
   "source": [
    "img1 = cv2.resize(img,(100,50), interpolation=cv2.INTER_LINEAR)"
   ]
  },
  {
   "cell_type": "code",
   "execution_count": 241,
   "metadata": {},
   "outputs": [
    {
     "data": {
      "text/plain": [
       "(50, 100, 3)"
      ]
     },
     "execution_count": 241,
     "metadata": {},
     "output_type": "execute_result"
    }
   ],
   "source": [
    "img1.shape"
   ]
  },
  {
   "cell_type": "code",
   "execution_count": null,
   "metadata": {},
   "outputs": [],
   "source": [
    "plt.imshow(img1)"
   ]
  },
  {
   "cell_type": "code",
   "execution_count": 243,
   "metadata": {},
   "outputs": [],
   "source": [
    "#img1=np.reshape(img1,(img1.shape[0], img1.shape[1], img1.shape[2],1))\n",
    "img1 = img1.reshape(-1, 50, 100, 1)"
   ]
  },
  {
   "cell_type": "code",
   "execution_count": 244,
   "metadata": {},
   "outputs": [
    {
     "data": {
      "text/plain": [
       "(3, 50, 100, 1)"
      ]
     },
     "execution_count": 244,
     "metadata": {},
     "output_type": "execute_result"
    }
   ],
   "source": [
    "img1.shape"
   ]
  },
  {
   "cell_type": "code",
   "execution_count": 245,
   "metadata": {},
   "outputs": [],
   "source": [
    "img1 = img1[0,:,:,0]"
   ]
  },
  {
   "cell_type": "code",
   "execution_count": 246,
   "metadata": {},
   "outputs": [
    {
     "data": {
      "text/plain": [
       "(50, 100)"
      ]
     },
     "execution_count": 246,
     "metadata": {},
     "output_type": "execute_result"
    }
   ],
   "source": [
    "img1.shape"
   ]
  },
  {
   "cell_type": "code",
   "execution_count": 247,
   "metadata": {},
   "outputs": [],
   "source": [
    "from tensorflow.keras.preprocessing import image"
   ]
  },
  {
   "cell_type": "code",
   "execution_count": 248,
   "metadata": {},
   "outputs": [],
   "source": [
    "img1 = image.img_to_array(img1)\n",
    "img1 = np.expand_dims(img1, axis=0)"
   ]
  },
  {
   "cell_type": "code",
   "execution_count": 249,
   "metadata": {},
   "outputs": [
    {
     "data": {
      "text/plain": [
       "(1, 50, 100, 1)"
      ]
     },
     "execution_count": 249,
     "metadata": {},
     "output_type": "execute_result"
    }
   ],
   "source": [
    "img1.shape"
   ]
  },
  {
   "cell_type": "code",
   "execution_count": 250,
   "metadata": {},
   "outputs": [],
   "source": [
    "a = model.predict(img1)"
   ]
  },
  {
   "cell_type": "code",
   "execution_count": 251,
   "metadata": {},
   "outputs": [],
   "source": [
    "score = tf.nn.softmax(a)"
   ]
  },
  {
   "cell_type": "code",
   "execution_count": 252,
   "metadata": {},
   "outputs": [
    {
     "data": {
      "text/plain": [
       "0"
      ]
     },
     "execution_count": 252,
     "metadata": {},
     "output_type": "execute_result"
    }
   ],
   "source": [
    "np.argmax(score)"
   ]
  }
 ],
 "metadata": {
  "interpreter": {
   "hash": "8b03d4cd05d71d535371b426da57de743181e37d8974a9636efe6e78873daaed"
  },
  "kernelspec": {
   "display_name": "Python 3.9.5 64-bit",
   "language": "python",
   "name": "python3"
  },
  "language_info": {
   "codemirror_mode": {
    "name": "ipython",
    "version": 3
   },
   "file_extension": ".py",
   "mimetype": "text/x-python",
   "name": "python",
   "nbconvert_exporter": "python",
   "pygments_lexer": "ipython3",
   "version": "3.9.5"
  },
  "orig_nbformat": 4
 },
 "nbformat": 4,
 "nbformat_minor": 2
}
