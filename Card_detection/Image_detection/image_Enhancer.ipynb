{
 "cells": [
  {
   "cell_type": "code",
   "execution_count": 48,
   "metadata": {},
   "outputs": [],
   "source": [
    "import cv2\n",
    "import numpy as np\n",
    "import pandas as pd\n",
    "\n",
    "import pytesseract\n",
    "from pytesseract import Output\n",
    "\n",
    "import re\n",
    "\n",
    "import skimage.filters as filters\n",
    "import matplotlib.pyplot as plt\n",
    "from PIL import Image, ImageEnhance\n",
    "import PIL.Image\n",
    "\n",
    "import os, random, pathlib, warnings, itertools, math, argparse, imutils\n",
    "warnings.filterwarnings(\"ignore\")"
   ]
  },
  {
   "cell_type": "code",
   "execution_count": null,
   "metadata": {},
   "outputs": [],
   "source": [
    "img = cv2.imread(r'C:\\Users\\LENOVO\\Desktop\\fff.jpg')\n",
    "#img = cv2.imread(args[\"image\"])\n",
    "plt.imshow(img)"
   ]
  },
  {
   "cell_type": "code",
   "execution_count": 50,
   "metadata": {},
   "outputs": [],
   "source": [
    "def preprocessing_typing_detection(img):\n",
    "    mask = np.zeros(img.shape, dtype=np.uint8)\n",
    "    gray = cv2.cvtColor(img, cv2.COLOR_BGR2GRAY)\n",
    "    smooth = cv2.GaussianBlur(gray, (95,95), 0)\n",
    "    rgb = cv2.cvtColor(img, cv2.COLOR_BGR2RGB)\n",
    "    #rgb1 = Image.frombytes('RGB', img.shape[:2], img, 'raw', 'BGR', 0, 0)\n",
    "    division = cv2.divide(gray, smooth, scale=255)\n",
    "    sharp = filters.unsharp_mask(division, radius=1.5, amount=1.5, channel_axis=False, preserve_range=False)\n",
    "    sharp = (255*sharp).clip(0,255).astype(np.uint8)\n",
    "    thresh = cv2.threshold(sharp, 0, 255, cv2.THRESH_BINARY + cv2.THRESH_OTSU)[1]\n",
    "    return thresh\n",
    "\n",
    "def preprocessing_typing_detection1(inputImage):\n",
    "    gray= cv2.cvtColor(inputImage, cv2.COLOR_BGR2GRAY)\n",
    "    laplac= cv2.Laplacian(gray, cv2.CV_8U)\n",
    "    return laplac\n",
    "\n",
    "def preprocessing_typing_detection2(inputImage):\n",
    "    image = imutils.resize(inputImage, height = 300)\n",
    "    gray = cv2.cvtColor(image, cv2.COLOR_BGR2GRAY)\n",
    "    gray = cv2.bilateralFilter(gray, 11, 17, 17)\n",
    "    edged = cv2.Canny(gray, 30, 200)\n",
    "    return edged\n",
    "\n",
    "def preprocessing_typing_detection3(inputImage):\n",
    "    gray = cv2.cvtColor(inputImage, cv2.COLOR_BGR2GRAY)\n",
    "    blurred = cv2.GaussianBlur(gray, (3, 3), 0)\n",
    "    canny = cv2.Canny(blurred, 120, 255, 1)\n",
    "    return canny\n",
    "\n",
    "def preprocessing_typing_detection4(inputImage):\n",
    "    gray = cv2.cvtColor(inputImage, cv2.COLOR_BGR2GRAY)\n",
    "    smooth = cv2.GaussianBlur(gray, (95,95), 0)\n",
    "    return smooth\n",
    "\n",
    "def preprocessing_typing_detection5(inputImage):\n",
    "    gray = cv2.cvtColor(img, cv2.COLOR_BGR2GRAY)\n",
    "    # Remove shadows\n",
    "    dilated_img = cv2.dilate(gray, np.ones((7, 7), np.uint8))\n",
    "    bg_img = cv2.medianBlur(dilated_img, 21)\n",
    "    diff_img = 255 - cv2.absdiff(gray, bg_img)\n",
    "    norm_img = cv2.normalize(diff_img, None, alpha=0, beta=255,\n",
    "                            norm_type=cv2.NORM_MINMAX, dtype=cv2.CV_8UC1)\n",
    "    # Threshold using Otsu's\n",
    "    work_img = cv2.threshold(norm_img, 0, 255, cv2.THRESH_OTSU)[1]\n",
    "    return work_img\n",
    "\n",
    "def get_string(img):\n",
    "    gray = cv2.cvtColor(img, cv2.COLOR_BGR2GRAY)\n",
    "    kernel = np.ones((1,1), np.uint8)\n",
    "    dil = cv2.dilate(gray, kernel, iterations = 1)\n",
    "    img_f = cv2.erode(dil, kernel, iterations = 1)\n",
    "    return img_f"
   ]
  },
  {
   "cell_type": "code",
   "execution_count": 51,
   "metadata": {},
   "outputs": [],
   "source": [
    "thresh = preprocessing_typing_detection(img)\n",
    "laplac = preprocessing_typing_detection1(img)\n",
    "edged = preprocessing_typing_detection2(img)\n",
    "canny = preprocessing_typing_detection3(img)\n",
    "smooth = preprocessing_typing_detection4(img)\n",
    "work_img = preprocessing_typing_detection5(img)\n",
    "img_f = get_string(img)"
   ]
  },
  {
   "cell_type": "code",
   "execution_count": null,
   "metadata": {},
   "outputs": [],
   "source": [
    "plt.title(label='Orignal', size=17, pad='7.0', loc=\"center\", fontstyle='italic')\n",
    "plt.imshow(img)"
   ]
  },
  {
   "cell_type": "code",
   "execution_count": null,
   "metadata": {},
   "outputs": [],
   "source": [
    "plt.title(label='Threshold', size=17, pad='7.0', loc=\"center\", fontstyle='italic')\n",
    "plt.imshow(thresh)"
   ]
  },
  {
   "cell_type": "code",
   "execution_count": null,
   "metadata": {},
   "outputs": [],
   "source": [
    "plt.title(label='laplacian', size=17, pad='7.0', loc=\"center\", fontstyle='italic')\n",
    "plt.imshow(laplac) "
   ]
  },
  {
   "cell_type": "code",
   "execution_count": null,
   "metadata": {},
   "outputs": [],
   "source": [
    "plt.title(label='Canny', size=17, pad='7.0', loc=\"center\", fontstyle='italic')\n",
    "plt.imshow(edged) "
   ]
  },
  {
   "cell_type": "code",
   "execution_count": null,
   "metadata": {},
   "outputs": [],
   "source": [
    "plt.title(label='smooth', size=17, pad='7.0', loc=\"center\", fontstyle='italic')\n",
    "plt.imshow(smooth) "
   ]
  },
  {
   "cell_type": "code",
   "execution_count": null,
   "metadata": {},
   "outputs": [],
   "source": [
    "plt.title(label='Threshold(otsu)', size=17, pad='7.0', loc=\"center\", fontstyle='italic')\n",
    "plt.imshow(work_img) "
   ]
  },
  {
   "cell_type": "code",
   "execution_count": null,
   "metadata": {},
   "outputs": [],
   "source": [
    "plt.title(label='Erode', size=17, pad='7.0', loc=\"center\", fontstyle='italic')\n",
    "plt.imshow(img_f) "
   ]
  }
 ],
 "metadata": {
  "kernelspec": {
   "display_name": "Python 3.9.5 64-bit",
   "language": "python",
   "name": "python3"
  },
  "language_info": {
   "codemirror_mode": {
    "name": "ipython",
    "version": 3
   },
   "file_extension": ".py",
   "mimetype": "text/x-python",
   "name": "python",
   "nbconvert_exporter": "python",
   "pygments_lexer": "ipython3",
   "version": "3.9.5"
  },
  "orig_nbformat": 4,
  "vscode": {
   "interpreter": {
    "hash": "e31aef8222fb7c235d2ed8e74ce17e973738f89b37261e7466b7a63a6dfb1214"
   }
  }
 },
 "nbformat": 4,
 "nbformat_minor": 2
}
