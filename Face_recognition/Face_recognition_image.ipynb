{
 "cells": [
  {
   "cell_type": "code",
   "execution_count": 5,
   "metadata": {},
   "outputs": [],
   "source": [
    "import face_recognition\n",
    "import imutils\n",
    "import pickle\n",
    "import time\n",
    "import cv2\n",
    "import os\n",
    "import numpy as np"
   ]
  },
  {
   "cell_type": "code",
   "execution_count": 6,
   "metadata": {},
   "outputs": [],
   "source": [
    "# load the harcaascade in the cascade classifier\n",
    "#new_path = r'C:\\Users\\LENOVO\\Desktop\\Ressources\\Ressources\\OpenCV\\opencv-4.5.5\\data\\haarcascades'\n",
    "face_cascade = cv2.CascadeClassifier(r'C:\\Users\\LENOVO\\Desktop\\Ressources\\Ressources\\OpenCV\\opencv-4.5.5\\data\\haarcascades\\haarcascade_frontalface_alt2.xml')\n",
    "eye_cascade  = cv2.CascadeClassifier(r'C:\\Users\\LENOVO\\Desktop\\Ressources\\Ressources\\OpenCV\\opencv-4.5.5\\data\\haarcascades\\haarcascade_eye.xml')\n",
    "# load the known faces and embeddings saved in last file\n",
    "data = pickle.loads(open('face_enc', \"rb\").read())"
   ]
  },
  {
   "cell_type": "code",
   "execution_count": 7,
   "metadata": {},
   "outputs": [],
   "source": [
    "#Find path to the image you want to detect face and pass it here\n",
    "image = cv2.imdecode(np.fromfile(str(r'C:\\Users\\LENOVO\\Desktop\\Ressources\\OpenCV_Tensorflow\\Face_recognition\\test_picture.jpg'), dtype=np.uint8), cv2.IMREAD_UNCHANGED)\n",
    "#image = cv2.imread(r'C:\\Users\\LENOVO\\Desktop\\Ressources\\OpenCV_Tensorflow\\Face_recognition\\test_picture.jpg')\n",
    "rgb = cv2.cvtColor(image, cv2.COLOR_BGR2RGB)\n",
    "#convert image to Greyscale for haarcascade\n",
    "gray = cv2.cvtColor(image, cv2.COLOR_BGR2GRAY)\n",
    "\n",
    "faces = face_cascade.detectMultiScale(gray,\n",
    "                                     scaleFactor=1.1,\n",
    "                                     minNeighbors=5,\n",
    "                                     minSize=(60, 60),\n",
    "                                     flags=cv2.CASCADE_SCALE_IMAGE)\n",
    "\n",
    "eyes = eye_cascade.detectMultiScale(gray)"
   ]
  },
  {
   "cell_type": "code",
   "execution_count": 8,
   "metadata": {},
   "outputs": [],
   "source": [
    "# the facial embeddings for face in input\n",
    "encodings = face_recognition.face_encodings(rgb)\n",
    "names = []\n",
    "# loop over the facial embeddings incase\n",
    "# we have multiple embeddings for multiple fcaes\n",
    "for encoding in encodings:\n",
    "    #Compare encodings with encodings in data[\"encodings\"]\n",
    "    #Matches contain array with boolean values and True for the embeddings it matches closely\n",
    "    #and False for rest\n",
    "    matches = face_recognition.compare_faces(data[\"encodings\"],\n",
    "    encoding)\n",
    "    #set name =inknown if no encoding matches\n",
    "    name = \"Unknown\"\n",
    "    # check to see if we have found a match\n",
    "    if True in matches:\n",
    "        #Find positions at which we get True and store them\n",
    "        matchedIdxs = [i for (i, b) in enumerate(matches) if b]\n",
    "        counts = {}\n",
    "        # loop over the matched indexes and maintain a count for\n",
    "        # each recognized face face\n",
    "        for i in matchedIdxs:\n",
    "            #Check the names at respective indexes we stored in matchedIdxs\n",
    "            name = data[\"names\"][i]\n",
    "            #increase count for the name we got\n",
    "            counts[name] = counts.get(name, 0) + 1\n",
    "            #set name which has highest count\n",
    "            name = max(counts, key=counts.get)\n",
    " \n",
    " \n",
    "        # update the list of names\n",
    "        names.append(name)\n",
    "        # loop over the recognized faces\n",
    "        for ((x, y, w, h), name) in zip(faces, names):\n",
    "            # rescale the face coordinates\n",
    "            # draw the predicted face name on the image\n",
    "            cv2.rectangle(image, (x, y), (x + w, y + h), (0, 255, 0), 2)\n",
    "            #roi_gray = gray[y:y+h, x:x+w]\n",
    "            #roi_color = image[y:y+h, x:x+w]\n",
    "            for ((a, b, c, d)) in eyes:\n",
    "                cv2.rectangle(image, (a, b), (a + c, b + d), (0, 255, 0), 2)\n",
    "            cv2.putText(image, name, (x, y), cv2.FONT_HERSHEY_SIMPLEX,0.75, (0, 255, 0), 2)\n",
    "    cv2.imshow(\"Frame\", image)\n",
    "    cv2.waitKey(0)"
   ]
  }
 ],
 "metadata": {
  "interpreter": {
   "hash": "8b03d4cd05d71d535371b426da57de743181e37d8974a9636efe6e78873daaed"
  },
  "kernelspec": {
   "display_name": "Python 3.9.5 64-bit",
   "language": "python",
   "name": "python3"
  },
  "language_info": {
   "codemirror_mode": {
    "name": "ipython",
    "version": 3
   },
   "file_extension": ".py",
   "mimetype": "text/x-python",
   "name": "python",
   "nbconvert_exporter": "python",
   "pygments_lexer": "ipython3",
   "version": "3.9.5"
  },
  "orig_nbformat": 4
 },
 "nbformat": 4,
 "nbformat_minor": 2
}
